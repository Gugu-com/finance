{
 "cells": [
  {
   "cell_type": "markdown",
   "id": "52366216",
   "metadata": {},
   "source": [
    "### Calculate average of the close value per quarter\n",
    "\n",
    "January, February, and March (Q1) April, May, and June (Q2) July, August, and September (Q3) October, November, and December (Q4)"
   ]
  },
  {
   "cell_type": "code",
   "execution_count": null,
   "id": "3c806bdf",
   "metadata": {},
   "outputs": [],
   "source": [
    "# Convert the 'date' column to a datetime format \n",
    "historical_df['date'] = pd.to_datetime(historical_df['date'])\n",
    "# Set 'date' column as the DataFrame index\n",
    "historical_df.set_index('date', inplace=True)\n",
    "# Resample the data by quarter and calculate the average of the 'close' values\n",
    "quarterly_average = historical_df['close'].resample('Q').mean()\n",
    "\n",
    "print(quarterly_average)\n"
   ]
  },
  {
   "cell_type": "markdown",
   "id": "d6439300",
   "metadata": {},
   "source": [
    "### Manual cross check with Q3 & Q4 2023 Data"
   ]
  },
  {
   "cell_type": "code",
   "execution_count": null,
   "id": "6b78f2bc",
   "metadata": {},
   "outputs": [],
   "source": [
    "#Q3\n",
    "#create a close df\n",
    "close_df =historical_df['close']\n",
    "close_df\n",
    "\n",
    "#Filter data for Q3 2023\n",
    "q3_2023_data = close_df['2023-07-01':'2023-09-30']\n",
    "\n",
    "q3_2023_data.mean()\n"
   ]
  },
  {
   "cell_type": "code",
   "execution_count": null,
   "id": "1f49e894",
   "metadata": {},
   "outputs": [],
   "source": [
    "#manual cross check with Q4 2023\n",
    "\n",
    "#Filter data for Q4 2023\n",
    "q4_2023_data = close_df['2023-10-01':'2023-11-27']\n",
    "\n",
    "q4_2023_data.mean()\n"
   ]
  },
  {
   "cell_type": "code",
   "execution_count": null,
   "id": "f0d3e8c7",
   "metadata": {},
   "outputs": [],
   "source": [
    "quarterly_average_df = pd.DataFrame({quarterly_average.name: quarterly_average})\n",
    "quarterly_average_df "
   ]
  },
  {
   "cell_type": "code",
   "execution_count": null,
   "id": "98201cca",
   "metadata": {},
   "outputs": [],
   "source": [
    "# Assuming your DataFrame is named cumulative_q3_close\n",
    "quarterly_average_df = quarterly_average_df.rename(columns={'close': 'Quarterly close'})\n",
    "\n",
    "# Display the DataFrame with the renamed column\n",
    "quarterly_average_df\n"
   ]
  },
  {
   "cell_type": "markdown",
   "id": "9ef45fb9",
   "metadata": {},
   "source": [
    "## MERGE THE FULL DATA SET "
   ]
  },
  {
   "cell_type": "markdown",
   "id": "eef69f2f",
   "metadata": {},
   "source": [
    "### IMPORT THE FULL STOCK PRICE DATASET"
   ]
  },
  {
   "cell_type": "code",
   "execution_count": null,
   "id": "723f2a91",
   "metadata": {},
   "outputs": [],
   "source": [
    "import pandas as pd\n",
    "import os\n",
    "\n",
    "directory_path = '/Users/admin/code/derksol/finance/raw_data'\n",
    "\n",
    "# List all files in the directory\n",
    "files = os.listdir(directory_path)\n",
    "\n",
    "# Iterate over each file and read it into a DataFrame\n",
    "for file_name in files:\n",
    "    file_path = os.path.join(directory_path, file_name)\n",
    "    Stock_price_df = pd.read_csv(file_path, encoding = \"ISO-8859-1\")\n",
    "    \n",
    "Stock_price_df = Stock_price_df.drop(columns=['ï»¿'])\n",
    "Stock_price_df"
   ]
  },
  {
   "cell_type": "code",
   "execution_count": null,
   "id": "fed43d5f",
   "metadata": {
    "scrolled": true
   },
   "outputs": [],
   "source": [
    "Stock_price_df['close']"
   ]
  },
  {
   "cell_type": "markdown",
   "id": "4e68f164",
   "metadata": {},
   "source": [
    "### Import the Y Target growth (close)"
   ]
  },
  {
   "cell_type": "code",
   "execution_count": null,
   "id": "40748d87",
   "metadata": {},
   "outputs": [],
   "source": [
    "file_path = '/Users/admin/code/derksol/finance/raw_data/y_target_growth.csv'\n",
    "\n",
    "# Read the CSV file into a DataFrame\n",
    "y_target_growth_df = pd.read_csv(file_path)\n",
    "\n",
    "y_target_growth_df.head (5)"
   ]
  },
  {
   "cell_type": "code",
   "execution_count": null,
   "id": "64d2ac72",
   "metadata": {},
   "outputs": [],
   "source": [
    "y_target_growth_df ['close']\n"
   ]
  },
  {
   "cell_type": "markdown",
   "id": "81ea81d4",
   "metadata": {},
   "source": [
    "### IMPORT THE Full processed dataset - X metric growth"
   ]
  },
  {
   "cell_type": "code",
   "execution_count": null,
   "id": "e491644f",
   "metadata": {
    "scrolled": true
   },
   "outputs": [],
   "source": [
    "file_path = '/Users/admin/code/derksol/finance/raw_data/X_metrics_growth.csv'\n",
    "\n",
    "# Read the CSV file into a DataFrame\n",
    "X_metrics_growth_df = pd.read_csv(file_path)\n",
    "\n",
    "# Drop the unnamed column in-place\n",
    "X_metrics_growth_df.drop(columns=['Unnamed: 0'], inplace=True)\n",
    "\n",
    "X_metrics_growth_df.head(5)\n"
   ]
  },
  {
   "cell_type": "code",
   "execution_count": null,
   "id": "cee82c72",
   "metadata": {},
   "outputs": [],
   "source": [
    "#check shapes\n",
    "X_metrics_growth_df.shape\n"
   ]
  },
  {
   "cell_type": "code",
   "execution_count": null,
   "id": "6615da9a",
   "metadata": {},
   "outputs": [],
   "source": [
    "y_target_growth_df.shape"
   ]
  },
  {
   "cell_type": "markdown",
   "id": "668c0899",
   "metadata": {},
   "source": [
    "## Merge the two dataframes - \n",
    "Y-target growth and X metric growth"
   ]
  },
  {
   "cell_type": "code",
   "execution_count": null,
   "id": "2904a62e",
   "metadata": {
    "scrolled": true
   },
   "outputs": [],
   "source": [
    "result_df = pd.merge(X_metrics_growth_df, y_target_growth_df[['quarter_str', 'close']], left_on='time_frame', \n",
    "                     right_on='quarter_str',how='left')\n",
    "result_df.head(5)"
   ]
  },
  {
   "cell_type": "markdown",
   "id": "a4c746ed",
   "metadata": {},
   "source": [
    "### Cross Check result"
   ]
  },
  {
   "cell_type": "code",
   "execution_count": null,
   "id": "3562b673",
   "metadata": {},
   "outputs": [],
   "source": [
    "result_df.sample()"
   ]
  },
  {
   "cell_type": "code",
   "execution_count": null,
   "id": "3bfde6f6",
   "metadata": {},
   "outputs": [],
   "source": [
    "y_target_growth_df[y_target_growth_df[\"symbol\"] == \"FTEK\"].tail(10)"
   ]
  },
  {
   "cell_type": "code",
   "execution_count": null,
   "id": "aa6d3faf",
   "metadata": {},
   "outputs": [],
   "source": []
  },
  {
   "cell_type": "code",
   "execution_count": null,
   "id": "e0e50da3",
   "metadata": {},
   "outputs": [],
   "source": []
  }
 ],
 "metadata": {
  "kernelspec": {
   "display_name": "Python 3 (ipykernel)",
   "language": "python",
   "name": "python3"
  },
  "language_info": {
   "codemirror_mode": {
    "name": "ipython",
    "version": 3
   },
   "file_extension": ".py",
   "mimetype": "text/x-python",
   "name": "python",
   "nbconvert_exporter": "python",
   "pygments_lexer": "ipython3",
   "version": "3.10.6"
  },
  "toc": {
   "base_numbering": 1,
   "nav_menu": {},
   "number_sections": true,
   "sideBar": true,
   "skip_h1_title": false,
   "title_cell": "Table of Contents",
   "title_sidebar": "Contents",
   "toc_cell": false,
   "toc_position": {},
   "toc_section_display": true,
   "toc_window_display": false
  }
 },
 "nbformat": 4,
 "nbformat_minor": 5
}
